{
 "cells": [
  {
   "cell_type": "code",
   "execution_count": 10,
   "metadata": {},
   "outputs": [
    {
     "name": "stderr",
     "output_type": "stream",
     "text": [
      "The attention mask and the pad token id were not set. As a consequence, you may observe unexpected behavior. Please pass your input's `attention_mask` to obtain reliable results.\n",
      "Setting `pad_token_id` to `eos_token_id`:50256 for open-end generation.\n"
     ]
    },
    {
     "name": "stdout",
     "output_type": "stream",
     "text": [
      "Once upon a time there used to be a separate society for Sylph, Sylvanas, Azmodan, Echargerated Kilrathi, zenkins and nature mages. Within that latter group, however, there is a split as well about\n"
     ]
    }
   ],
   "source": [
    "from transformers import GPT2LMHeadModel, GPT2Tokenizer\n",
    "\n",
    "model_name = 'gpt2'\n",
    "model = GPT2LMHeadModel.from_pretrained(model_name)\n",
    "tokenizer = GPT2Tokenizer.from_pretrained(model_name)\n",
    "\n",
    "input_text = \"Once upon a time\"\n",
    "input_ids = tokenizer.encode(input_text, return_tensors='pt')\n",
    "\n",
    "# Generate text with sampling\n",
    "output = model.generate(input_ids, max_length=50, do_sample=True, top_k=0)\n",
    "generated_text = tokenizer.decode(output[0], skip_special_tokens=True)\n",
    "print(generated_text)\n"
   ]
  },
  {
   "cell_type": "code",
   "execution_count": 1,
   "metadata": {},
   "outputs": [],
   "source": [
    "yx = 3"
   ]
  },
  {
   "cell_type": "code",
   "execution_count": 2,
   "metadata": {},
   "outputs": [],
   "source": [
    "import torch\n",
    "z = torch.tensor(12)"
   ]
  },
  {
   "cell_type": "code",
   "execution_count": 1,
   "metadata": {},
   "outputs": [],
   "source": [
    "import torch\n",
    "losses1 = torch.tensor([])"
   ]
  },
  {
   "cell_type": "code",
   "execution_count": 9,
   "metadata": {},
   "outputs": [],
   "source": [
    "torch.tensor(0.0, requires_grad=True).grad"
   ]
  },
  {
   "cell_type": "code",
   "execution_count": 4,
   "metadata": {},
   "outputs": [
    {
     "data": {
      "text/plain": [
       "tensor(12)"
      ]
     },
     "execution_count": 4,
     "metadata": {},
     "output_type": "execute_result"
    }
   ],
   "source": [
    "z.to(z.device)"
   ]
  },
  {
   "cell_type": "code",
   "execution_count": 9,
   "metadata": {},
   "outputs": [
    {
     "name": "stdout",
     "output_type": "stream",
     "text": [
      "Pareto dominant volume: 36.0\n"
     ]
    }
   ],
   "source": [
    "import torch\n",
    "\n",
    "def pareto_dominant_volume(sample_points, reference_point):\n",
    "    \"\"\"\n",
    "    Calculate the Pareto dominant volume of sample points with respect to a reference point.\n",
    "    \n",
    "    Args:\n",
    "    - sample_points (torch.Tensor): Tensor of size N*2 containing N sample points.\n",
    "    - reference_point (torch.Tensor): Tensor of size 2 containing the reference point.\n",
    "    \n",
    "    Returns:\n",
    "    - float: Pareto dominant volume.\n",
    "    \"\"\"\n",
    "    # Calculate the number of sample points\n",
    "    num_points = sample_points.size(0)\n",
    "    \n",
    "    # Calculate the number of dimensions\n",
    "    num_dimensions = sample_points.size(1)\n",
    "    \n",
    "    # Initialize a counter for dominated points\n",
    "    dominated_count = 0\n",
    "    \n",
    "    # Iterate through each sample point\n",
    "    for i in range(num_points):\n",
    "        # Check if the sample point dominates the reference point\n",
    "        if torch.all(sample_points[i] <= reference_point):\n",
    "            # Increment the counter for dominated points\n",
    "            dominated_count += 1\n",
    "    \n",
    "    # Calculate the ratio of dominated points to total points\n",
    "    dominance_ratio = dominated_count / num_points\n",
    "    \n",
    "    # Calculate the Pareto dominant volume (area in 2D)\n",
    "    pareto_volume = dominance_ratio * (reference_point[0] - sample_points[:, 0].min()) * (reference_point[1] - sample_points[:, 1].min())\n",
    "    \n",
    "    return pareto_volume\n",
    "\n",
    "# Example usage:\n",
    "sample_points = torch.tensor([[1.0, 2.0], [3.0, 4.0], [5.0, 6.0]])\n",
    "reference_point = torch.tensor([7.0, 8.0])\n",
    "\n",
    "pareto_volume = pareto_dominant_volume(sample_points, reference_point)\n",
    "print(\"Pareto dominant volume:\", pareto_volume.item())\n"
   ]
  },
  {
   "cell_type": "code",
   "execution_count": 13,
   "metadata": {},
   "outputs": [
    {
     "name": "stdout",
     "output_type": "stream",
     "text": [
      "[[1 2]\n",
      " [2 3]\n",
      " [3 4]\n",
      " [4 5]\n",
      " [5 6]]\n",
      "Hypervolume Indicator: 15.0\n"
     ]
    }
   ],
   "source": [
    "\n",
    "import array\n",
    "import random\n",
    "import numpy as np\n",
    "\n",
    "# Example Pareto front (list of solutions with two objectives)\n",
    "pareto_front = [(1, 2), (2, 3), (3, 4), (4, 5), (5, 6)]\n",
    "\n",
    "# Function to calculate hypervolume indicator\n",
    "def hypervolume_indicator(pareto_front, ref_point):\n",
    "    \"\"\"\n",
    "    Calculate hypervolume indicator for a Pareto front and reference point.\n",
    "    \n",
    "    :param pareto_front: List of Pareto optimal solutions.\n",
    "    :param ref_point: Reference point for hypervolume calculation.\n",
    "    :return: Hypervolume indicator value.\n",
    "    \"\"\"\n",
    "    # Convert pareto front and reference point to numpy arrays\n",
    "    pareto_front = np.array(pareto_front)\n",
    "    ref_point = np.array(ref_point)\n",
    "    \n",
    "    # Sort Pareto front based on first objective (ascending order)\n",
    "    pareto_front = pareto_front[np.argsort(pareto_front[:, 0])]\n",
    "    print(pareto_front)\n",
    "    # Initialize hypervolume\n",
    "    hypervolume = 0.0\n",
    "    \n",
    "    # Iterate through solutions in Pareto front\n",
    "    for i in range(len(pareto_front)):\n",
    "        # Calculate hypervolume contribution of current solution\n",
    "        if i == 0:\n",
    "            hypervolume += (ref_point[0] - pareto_front[i][0]) * (ref_point[1] - pareto_front[i][1])\n",
    "        else:\n",
    "            hypervolume += (pareto_front[i-1][0] - pareto_front[i][0]) * (ref_point[1] - pareto_front[i][1])\n",
    "    \n",
    "    return hypervolume\n",
    "\n",
    "# Reference point for hypervolume calculation (maximum values for each objective)\n",
    "reference_point = (6, 7)\n",
    "\n",
    "# Calculate hypervolume indicator\n",
    "hv = hypervolume_indicator(pareto_front, reference_point)\n",
    "print(\"Hypervolume Indicator:\", hv)\n"
   ]
  },
  {
   "cell_type": "code",
   "execution_count": 10,
   "metadata": {},
   "outputs": [
    {
     "name": "stdout",
     "output_type": "stream",
     "text": [
      "Pareto dominant volume: 42.0\n"
     ]
    }
   ],
   "source": [
    "sample_points = torch.tensor([[1.0, 2.0], [2.0, 1.0], [5.0, 6.0]])\n",
    "reference_point = torch.tensor([7.0, 8.0])\n",
    "\n",
    "pareto_volume = pareto_dominant_volume(sample_points, reference_point)\n",
    "print(\"Pareto dominant volume:\", pareto_volume.item())"
   ]
  },
  {
   "cell_type": "code",
   "execution_count": 2,
   "metadata": {},
   "outputs": [],
   "source": [
    "import torch\n",
    "\n",
    "def pareto_dominance_volume(sample_points, reference_point):\n",
    "    # Calculate the minimum and maximum x and y values\n",
    "    min_x = torch.min(sample_points[:, 0])\n",
    "    max_x = torch.max(sample_points[:, 0])\n",
    "    min_y = torch.min(sample_points[:, 1])\n",
    "    max_y = torch.max(sample_points[:, 1])\n",
    "    \n",
    "    # Calculate the area dominated by the sample points and also dominating the reference point\n",
    "    dominate_volume = (max_x - min_x) * (max_y - min_y)\n",
    "    \n",
    "    # Check if the reference point is dominated by the sample points\n",
    "    if (reference_point[0] >= min_x) and (reference_point[0] <= max_x) and (reference_point[1] >= min_y) and (reference_point[1] <= max_y):\n",
    "        dominate_volume -= (reference_point[0] - min_x) * (reference_point[1] - min_y)\n",
    "    \n",
    "    return dominate_volume"
   ]
  },
  {
   "cell_type": "code",
   "execution_count": 3,
   "metadata": {},
   "outputs": [
    {
     "data": {
      "text/plain": [
       "tensor(36.)"
      ]
     },
     "execution_count": 3,
     "metadata": {},
     "output_type": "execute_result"
    }
   ],
   "source": [
    "pareto_dominant_volume(sample_points, reference_point)"
   ]
  },
  {
   "cell_type": "code",
   "execution_count": 5,
   "metadata": {},
   "outputs": [
    {
     "name": "stdout",
     "output_type": "stream",
     "text": [
      "Pareto dominant volume: 36.0\n"
     ]
    }
   ],
   "source": [
    "import torch\n",
    "\n",
    "def pareto_dominant_volume(sample_points, reference_point):\n",
    "    \"\"\"\n",
    "    Calculate the Pareto dominant volume of sample points with respect to a reference point.\n",
    "    \n",
    "    Args:\n",
    "    - sample_points (torch.Tensor): Tensor of size N*2 containing N sample points.\n",
    "    - reference_point (torch.Tensor): Tensor of size 2 containing the reference point.\n",
    "    \n",
    "    Returns:\n",
    "    - float: Pareto dominant volume.\n",
    "    \"\"\"\n",
    "    # Calculate the number of sample points\n",
    "    num_points = sample_points.size(0)\n",
    "    \n",
    "    # Calculate the number of dimensions\n",
    "    num_dimensions = sample_points.size(1)\n",
    "    \n",
    "    # Initialize a counter for dominating points\n",
    "    dominating_count = 0\n",
    "    \n",
    "    # Iterate through each sample point\n",
    "    for i in range(num_points):\n",
    "        # Check if the sample point is dominated by the reference point\n",
    "        if torch.all(sample_points[i] <= reference_point):\n",
    "            # Increment the counter for dominating points\n",
    "            dominating_count += 1\n",
    "    \n",
    "    # Calculate the ratio of dominating points to total points\n",
    "    dominance_ratio = dominating_count / num_points\n",
    "    \n",
    "    # Calculate the Pareto dominant volume (area in 2D)\n",
    "    pareto_volume = dominance_ratio * (reference_point[0] - sample_points[:, 0].min()) * (reference_point[1] - sample_points[:, 1].min())\n",
    "    \n",
    "    return pareto_volume\n",
    "\n",
    "# Example usage:\n",
    "sample_points = torch.tensor([[1.0, 2.0], [3.0, 4.0], [5.0, 6.0]])\n",
    "reference_point = torch.tensor([7.0, 8.0])\n",
    "\n",
    "pareto_volume = pareto_dominant_volume(sample_points, reference_point)\n",
    "print(\"Pareto dominant volume:\", pareto_volume.item())\n"
   ]
  },
  {
   "cell_type": "code",
   "execution_count": 6,
   "metadata": {},
   "outputs": [],
   "source": [
    "import torch\n",
    "\n",
    "def pareto_dominate_volume(sample_points, reference_point):\n",
    "  \"\"\"\n",
    "  Calculates the Pareto dominate volume of sample points with respect to a reference point.\n",
    "\n",
    "  Args:\n",
    "      sample_points: A torch tensor of size (N, 2) representing the sample points.\n",
    "      reference_point: A torch tensor of size (2) representing the reference point.\n",
    "\n",
    "  Returns:\n",
    "      A float representing the Pareto dominate volume.\n",
    "  \"\"\"\n",
    "  # Check for valid input shapes\n",
    "  if sample_points.dim() != 2 or sample_points.shape[1] != 2:\n",
    "    raise ValueError(\"sample_points must be a tensor of size (N, 2)\")\n",
    "  if reference_point.dim() != 1 or reference_point.shape[0] != 2:\n",
    "    raise ValueError(\"reference_point must be a tensor of size (2)\")\n",
    "\n",
    "  # Calculate the number of dimensions (objectives)\n",
    "  num_objectives = sample_points.shape[1]\n",
    "\n",
    "  # Calculate boolean mask for points dominating the reference point in all dimensions\n",
    "  dominates_reference = torch.all(sample_points < reference_point, dim=1)\n",
    "\n",
    "  # Calculate boolean mask for points not dominated by any other sample point\n",
    "  not_dominated = torch.ones(sample_points.shape[0], dtype=bool)\n",
    "  for i in range(sample_points.shape[0]):\n",
    "    current_point = sample_points[i]\n",
    "    other_points = torch.cat((sample_points[:i], sample_points[i+1:]), dim=0)\n",
    "    not_dominated[i] = torch.any(~torch.all(other_points <= current_point, dim=1))\n",
    "\n",
    "  # Calculate the final mask for points in the Pareto dominate volume\n",
    "  pareto_dominate = dominates_reference & not_dominated\n",
    "\n",
    "  # Calculate the area (assuming minimization problems) by summing dominated objective differences\n",
    "  dominate_volume = torch.sum(torch.where(pareto_dominate, reference_point - sample_points, torch.zeros_like(sample_points)))\n",
    "\n",
    "  return dominate_volume.item()  # Return the scalar value\n"
   ]
  },
  {
   "cell_type": "code",
   "execution_count": 8,
   "metadata": {},
   "outputs": [
    {
     "ename": "RuntimeError",
     "evalue": "The size of tensor a (3) must match the size of tensor b (2) at non-singleton dimension 1",
     "output_type": "error",
     "traceback": [
      "\u001b[0;31m---------------------------------------------------------------------------\u001b[0m",
      "\u001b[0;31mRuntimeError\u001b[0m                              Traceback (most recent call last)",
      "Cell \u001b[0;32mIn[8], line 1\u001b[0m\n\u001b[0;32m----> 1\u001b[0m \u001b[43mpareto_dominate_volume\u001b[49m\u001b[43m(\u001b[49m\u001b[43msample_points\u001b[49m\u001b[43m,\u001b[49m\u001b[43m \u001b[49m\u001b[43mreference_point\u001b[49m\u001b[43m)\u001b[49m\n",
      "Cell \u001b[0;32mIn[6], line 37\u001b[0m, in \u001b[0;36mpareto_dominate_volume\u001b[0;34m(sample_points, reference_point)\u001b[0m\n\u001b[1;32m     34\u001b[0m pareto_dominate \u001b[38;5;241m=\u001b[39m dominates_reference \u001b[38;5;241m&\u001b[39m not_dominated\n\u001b[1;32m     36\u001b[0m \u001b[38;5;66;03m# Calculate the area (assuming minimization problems) by summing dominated objective differences\u001b[39;00m\n\u001b[0;32m---> 37\u001b[0m dominate_volume \u001b[38;5;241m=\u001b[39m torch\u001b[38;5;241m.\u001b[39msum(\u001b[43mtorch\u001b[49m\u001b[38;5;241;43m.\u001b[39;49m\u001b[43mwhere\u001b[49m\u001b[43m(\u001b[49m\u001b[43mpareto_dominate\u001b[49m\u001b[43m,\u001b[49m\u001b[43m \u001b[49m\u001b[43mreference_point\u001b[49m\u001b[43m \u001b[49m\u001b[38;5;241;43m-\u001b[39;49m\u001b[43m \u001b[49m\u001b[43msample_points\u001b[49m\u001b[43m,\u001b[49m\u001b[43m \u001b[49m\u001b[43mtorch\u001b[49m\u001b[38;5;241;43m.\u001b[39;49m\u001b[43mzeros_like\u001b[49m\u001b[43m(\u001b[49m\u001b[43msample_points\u001b[49m\u001b[43m)\u001b[49m\u001b[43m)\u001b[49m)\n\u001b[1;32m     39\u001b[0m \u001b[38;5;28;01mreturn\u001b[39;00m dominate_volume\u001b[38;5;241m.\u001b[39mitem()\n",
      "\u001b[0;31mRuntimeError\u001b[0m: The size of tensor a (3) must match the size of tensor b (2) at non-singleton dimension 1"
     ]
    }
   ],
   "source": [
    "pareto_dominate_volume(sample_points, reference_point)"
   ]
  },
  {
   "cell_type": "code",
   "execution_count": 14,
   "metadata": {},
   "outputs": [
    {
     "name": "stdout",
     "output_type": "stream",
     "text": [
      "Pareto Front:\n",
      "tensor([[1, 2]])\n"
     ]
    }
   ],
   "source": [
    "import torch\n",
    "\n",
    "def find_pareto_front(samples):\n",
    "    \"\"\"\n",
    "    Find the Pareto front of given sample points.\n",
    "    \n",
    "    :param samples: Torch tensor of size N*2 containing sample points (N samples, 2 objectives).\n",
    "    :return: List of indices of points in the Pareto front.\n",
    "    \"\"\"\n",
    "    pareto_front = []\n",
    "    dominated_by = torch.zeros(samples.size(0), dtype=torch.bool)\n",
    "    \n",
    "    for i, point1 in enumerate(samples):\n",
    "        if not dominated_by[i]:\n",
    "            pareto_front.append(i)\n",
    "            for j, point2 in enumerate(samples):\n",
    "                if i != j:\n",
    "                    if torch.all(point1 <= point2):\n",
    "                        dominated_by[j] = True\n",
    "                    elif torch.all(point1 >= point2):\n",
    "                        dominated_by[i] = True\n",
    "                        pareto_front.remove(i)\n",
    "                        break\n",
    "                        \n",
    "    return pareto_front\n",
    "\n",
    "# Example sample points (torch tensor of size N*2)\n",
    "samples = torch.tensor([[1, 2], [2, 3], [3, 4], [4, 5], [5, 6]])\n",
    "\n",
    "# Find Pareto front\n",
    "pareto_front_indices = find_pareto_front(samples)\n",
    "\n",
    "# Print Pareto front\n",
    "pareto_front = samples[pareto_front_indices]\n",
    "print(\"Pareto Front:\")\n",
    "print(pareto_front)"
   ]
  },
  {
   "cell_type": "code",
   "execution_count": 41,
   "metadata": {},
   "outputs": [
    {
     "name": "stdout",
     "output_type": "stream",
     "text": [
      "tensor([[1.0000, 2.0000],\n",
      "        [1.2000, 1.7000],\n",
      "        [1.5000, 1.5000],\n",
      "        [2.0000, 1.0000]])\n",
      "tensor([1., 0.])\n",
      "tensor([1.2000, 0.0000])\n",
      "tensor([1.5000, 0.0000])\n",
      "tensor([2., 0.])\n",
      "Dominating Volume: tensor(3.2900)\n"
     ]
    }
   ],
   "source": [
    "import torch\n",
    "\n",
    "def find_pareto_front(samples):\n",
    "    \"\"\"\n",
    "    Find the Pareto front of given sample points.\n",
    "    \n",
    "    :param samples: Torch tensor of size N*2 containing sample points (N samples, 2 objectives).\n",
    "    :return: List of indices of points in the Pareto front.\n",
    "    \"\"\"\n",
    "    pareto_front = []\n",
    "    dominated_by = torch.zeros(samples.size(0), dtype=torch.bool)\n",
    "    \n",
    "    for i, point1 in enumerate(samples):\n",
    "        if not dominated_by[i]:\n",
    "            pareto_front.append(i)\n",
    "            for j, point2 in enumerate(samples):\n",
    "                if i != j:\n",
    "                    if torch.all(point1 >= point2):\n",
    "                        dominated_by[j] = True\n",
    "                    elif torch.all(point1 <= point2):\n",
    "                        dominated_by[i] = True\n",
    "                        pareto_front.remove(i)\n",
    "                        break\n",
    "    PF = samples[pareto_front]\n",
    "    return PF\n",
    "\n",
    "def calculate_dominating_volume(pareto_front, ref_point):\n",
    "    \"\"\"\n",
    "    Calculate the dominating volume of the Pareto front with respect to a reference point.\n",
    "    \n",
    "    :param pareto_front: Torch tensor of size N*2 containing points in the Pareto front (N points, 2 objectives).\n",
    "    :param ref_point: Torch tensor of size 2 representing the reference point.\n",
    "    :return: Dominating volume of the Pareto front.\n",
    "    \"\"\"\n",
    "    # Sort Pareto front based on the first objective (ascending order)\n",
    "    sorted_pareto_front = pareto_front[pareto_front[:, 0].argsort()]\n",
    "    \n",
    "    # Initialize dominating volume\n",
    "    dominating_volume = 0.0\n",
    "    \n",
    "    # Initialize the right upper corner of the rectangle\n",
    "    right_upper_corner = ref_point.clone()\n",
    "    print(sorted_pareto_front)\n",
    "    # Iterate through sorted Pareto front\n",
    "    for point in sorted_pareto_front:\n",
    "        # Calculate the width and height of the rectangle\n",
    "        width = right_upper_corner[0] - point[0]\n",
    "        height = right_upper_corner[1] - point[1]\n",
    "        \n",
    "        # Update dominating volume by adding the area of the rectangle\n",
    "        dominating_volume += width * height\n",
    "        \n",
    "        # Update the right upper corner for the next rectangle\n",
    "        right_upper_corner[0] = point[0]\n",
    "        print(right_upper_corner)\n",
    "    \n",
    "    return dominating_volume\n",
    "\n",
    "# Example sample points (torch tensor of size N*2)\n",
    "samples = torch.tensor([[1, 2], [2, 1], [2, 1], [1.2, 1.7], [1.5, 1.5]])\n",
    "\n",
    "# Find Pareto front\n",
    "pareto_front_indices = find_pareto_front(samples)\n",
    "# pareto_front = samples[pareto_front_indices]\n",
    "\n",
    "# Reference point (torch tensor of size 2)\n",
    "reference_point =torch.tensor([.0, .0])\n",
    "\n",
    "# Calculate dominating volume\n",
    "dominating_volume = calculate_dominating_volume(pareto_front, reference_point)\n",
    "\n",
    "# Print dominating volume\n",
    "print(\"Dominating Volume:\", dominating_volume)\n"
   ]
  },
  {
   "cell_type": "code",
   "execution_count": 37,
   "metadata": {},
   "outputs": [
    {
     "name": "stdout",
     "output_type": "stream",
     "text": [
      "Dominating Volume: tensor(15.3400)\n"
     ]
    }
   ],
   "source": [
    "import torch\n",
    "\n",
    "def find_pareto_front(samples):\n",
    "    \"\"\"\n",
    "    Find the Pareto front of given sample points.\n",
    "    \n",
    "    :param samples: Torch tensor of size N*2 containing sample points (N samples, 2 objectives).\n",
    "    :return: Pareto front as a torch tensor.\n",
    "    \"\"\"\n",
    "    pareto_front = []\n",
    "    dominated_by = torch.zeros(samples.size(0), dtype=torch.bool)\n",
    "    \n",
    "    for idx, point1 in enumerate(samples):\n",
    "        if not dominated_by[idx]:\n",
    "            pareto_front.append(idx)\n",
    "            for j, point2 in enumerate(samples):\n",
    "                if idx != j:\n",
    "                    if torch.all(point1 <= point2):\n",
    "                        dominated_by[j] = True\n",
    "                    elif torch.all(point1 >= point2):\n",
    "                        dominated_by[idx] = True\n",
    "                        pareto_front.remove(idx)\n",
    "                        break\n",
    "    pareto_front_tensor = samples[pareto_front]\n",
    "    return pareto_front_tensor\n",
    "\n",
    "def calculate_dominating_volume(pareto_front, ref_point):\n",
    "    \"\"\"\n",
    "    Calculate the dominating volume of the Pareto front with respect to a reference point.\n",
    "    \n",
    "    :param pareto_front: Torch tensor of size N*2 containing points in the Pareto front (N points, 2 objectives).\n",
    "    :param ref_point: Torch tensor of size 2 representing the reference point.\n",
    "    :return: Dominating volume of the Pareto front.\n",
    "    \"\"\"\n",
    "    # Sort Pareto front based on the first objective (ascending order)\n",
    "    sorted_pareto_front = pareto_front[pareto_front[:, 0].argsort()]\n",
    "    \n",
    "    # Initialize dominating volume\n",
    "    dominating_volume = 0.0\n",
    "    \n",
    "    # Initialize the upper left corner of the rectangle\n",
    "    upper_left_corner = ref_point.clone()\n",
    "    \n",
    "    # Iterate through sorted Pareto front\n",
    "    for point in sorted_pareto_front:\n",
    "        # Calculate the width and height of the rectangle\n",
    "        width = upper_left_corner[0] - point[0]\n",
    "        height = upper_left_corner[1] - point[1]\n",
    "        \n",
    "        # Update dominating volume by adding the area of the rectangle\n",
    "        dominating_volume += width * height\n",
    "        \n",
    "        # Update the upper left corner for the next rectangle\n",
    "        upper_left_corner[1] = point[1]\n",
    "    \n",
    "    return dominating_volume\n",
    "\n",
    "# Example sample points (torch tensor of size N*2)\n",
    "samples = torch.tensor([[1, 2], [2, 1], [3, 3], [1.2, 1.7], [1.5, 1.5]])\n",
    "\n",
    "# Find Pareto front\n",
    "pareto_front_tensor = find_pareto_front(samples)\n",
    "\n",
    "# Reference point (torch tensor of size 2)\n",
    "reference_point = torch.tensor([5.0, 5.0])\n",
    "\n",
    "# Calculate dominating volume\n",
    "dominating_volume = calculate_dominating_volume(pareto_front_tensor, reference_point)\n",
    "\n",
    "# Print dominating volume\n",
    "print(\"Dominating Volume:\", dominating_volume)\n"
   ]
  },
  {
   "cell_type": "code",
   "execution_count": 20,
   "metadata": {},
   "outputs": [],
   "source": [
    "pareto_front_indices = find_pareto_front(samples)\n",
    "pareto_front = samples[pareto_front_indices]\n"
   ]
  },
  {
   "cell_type": "code",
   "execution_count": 26,
   "metadata": {},
   "outputs": [
    {
     "data": {
      "text/plain": [
       "tensor([[1.0000, 2.0000],\n",
       "        [1.2000, 1.7000],\n",
       "        [1.5000, 1.5000],\n",
       "        [2.0000, 1.0000]])"
      ]
     },
     "execution_count": 26,
     "metadata": {},
     "output_type": "execute_result"
    }
   ],
   "source": [
    "pareto_front[pareto_front[:, 0].argsort()]"
   ]
  }
 ],
 "metadata": {
  "kernelspec": {
   "display_name": "base",
   "language": "python",
   "name": "python3"
  },
  "language_info": {
   "codemirror_mode": {
    "name": "ipython",
    "version": 3
   },
   "file_extension": ".py",
   "mimetype": "text/x-python",
   "name": "python",
   "nbconvert_exporter": "python",
   "pygments_lexer": "ipython3",
   "version": "3.11.3"
  }
 },
 "nbformat": 4,
 "nbformat_minor": 2
}
